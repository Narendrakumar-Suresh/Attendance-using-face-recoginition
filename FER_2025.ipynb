{
  "nbformat": 4,
  "nbformat_minor": 0,
  "metadata": {
    "colab": {
      "provenance": [],
      "gpuType": "T4",
      "authorship_tag": "ABX9TyPqEbyNbwohBH+2anouaQAq",
      "include_colab_link": true
    },
    "kernelspec": {
      "name": "python3",
      "display_name": "Python 3"
    },
    "language_info": {
      "name": "python"
    },
    "accelerator": "GPU"
  },
  "cells": [
    {
      "cell_type": "markdown",
      "metadata": {
        "id": "view-in-github",
        "colab_type": "text"
      },
      "source": [
        "<a href=\"https://colab.research.google.com/github/Narendrakumar-Suresh/Attendance-using-face-recoginition/blob/main/FER_2025.ipynb\" target=\"_parent\"><img src=\"https://colab.research.google.com/assets/colab-badge.svg\" alt=\"Open In Colab\"/></a>"
      ]
    },
    {
      "cell_type": "markdown",
      "source": [
        "## Setting up Kaggle to import data"
      ],
      "metadata": {
        "id": "0QK2l1-1xME4"
      }
    },
    {
      "cell_type": "code",
      "source": [
        "from google.colab import files\n",
        "files.upload()"
      ],
      "metadata": {
        "colab": {
          "base_uri": "https://localhost:8080/",
          "height": 91
        },
        "id": "8ZSkHSRhldSt",
        "outputId": "4d5f058c-72be-4db9-cb7a-be84a5cb9163"
      },
      "execution_count": 1,
      "outputs": [
        {
          "output_type": "display_data",
          "data": {
            "text/plain": [
              "<IPython.core.display.HTML object>"
            ],
            "text/html": [
              "\n",
              "     <input type=\"file\" id=\"files-94797a4a-a7de-4801-951e-1c4573ce7b25\" name=\"files[]\" multiple disabled\n",
              "        style=\"border:none\" />\n",
              "     <output id=\"result-94797a4a-a7de-4801-951e-1c4573ce7b25\">\n",
              "      Upload widget is only available when the cell has been executed in the\n",
              "      current browser session. Please rerun this cell to enable.\n",
              "      </output>\n",
              "      <script>// Copyright 2017 Google LLC\n",
              "//\n",
              "// Licensed under the Apache License, Version 2.0 (the \"License\");\n",
              "// you may not use this file except in compliance with the License.\n",
              "// You may obtain a copy of the License at\n",
              "//\n",
              "//      http://www.apache.org/licenses/LICENSE-2.0\n",
              "//\n",
              "// Unless required by applicable law or agreed to in writing, software\n",
              "// distributed under the License is distributed on an \"AS IS\" BASIS,\n",
              "// WITHOUT WARRANTIES OR CONDITIONS OF ANY KIND, either express or implied.\n",
              "// See the License for the specific language governing permissions and\n",
              "// limitations under the License.\n",
              "\n",
              "/**\n",
              " * @fileoverview Helpers for google.colab Python module.\n",
              " */\n",
              "(function(scope) {\n",
              "function span(text, styleAttributes = {}) {\n",
              "  const element = document.createElement('span');\n",
              "  element.textContent = text;\n",
              "  for (const key of Object.keys(styleAttributes)) {\n",
              "    element.style[key] = styleAttributes[key];\n",
              "  }\n",
              "  return element;\n",
              "}\n",
              "\n",
              "// Max number of bytes which will be uploaded at a time.\n",
              "const MAX_PAYLOAD_SIZE = 100 * 1024;\n",
              "\n",
              "function _uploadFiles(inputId, outputId) {\n",
              "  const steps = uploadFilesStep(inputId, outputId);\n",
              "  const outputElement = document.getElementById(outputId);\n",
              "  // Cache steps on the outputElement to make it available for the next call\n",
              "  // to uploadFilesContinue from Python.\n",
              "  outputElement.steps = steps;\n",
              "\n",
              "  return _uploadFilesContinue(outputId);\n",
              "}\n",
              "\n",
              "// This is roughly an async generator (not supported in the browser yet),\n",
              "// where there are multiple asynchronous steps and the Python side is going\n",
              "// to poll for completion of each step.\n",
              "// This uses a Promise to block the python side on completion of each step,\n",
              "// then passes the result of the previous step as the input to the next step.\n",
              "function _uploadFilesContinue(outputId) {\n",
              "  const outputElement = document.getElementById(outputId);\n",
              "  const steps = outputElement.steps;\n",
              "\n",
              "  const next = steps.next(outputElement.lastPromiseValue);\n",
              "  return Promise.resolve(next.value.promise).then((value) => {\n",
              "    // Cache the last promise value to make it available to the next\n",
              "    // step of the generator.\n",
              "    outputElement.lastPromiseValue = value;\n",
              "    return next.value.response;\n",
              "  });\n",
              "}\n",
              "\n",
              "/**\n",
              " * Generator function which is called between each async step of the upload\n",
              " * process.\n",
              " * @param {string} inputId Element ID of the input file picker element.\n",
              " * @param {string} outputId Element ID of the output display.\n",
              " * @return {!Iterable<!Object>} Iterable of next steps.\n",
              " */\n",
              "function* uploadFilesStep(inputId, outputId) {\n",
              "  const inputElement = document.getElementById(inputId);\n",
              "  inputElement.disabled = false;\n",
              "\n",
              "  const outputElement = document.getElementById(outputId);\n",
              "  outputElement.innerHTML = '';\n",
              "\n",
              "  const pickedPromise = new Promise((resolve) => {\n",
              "    inputElement.addEventListener('change', (e) => {\n",
              "      resolve(e.target.files);\n",
              "    });\n",
              "  });\n",
              "\n",
              "  const cancel = document.createElement('button');\n",
              "  inputElement.parentElement.appendChild(cancel);\n",
              "  cancel.textContent = 'Cancel upload';\n",
              "  const cancelPromise = new Promise((resolve) => {\n",
              "    cancel.onclick = () => {\n",
              "      resolve(null);\n",
              "    };\n",
              "  });\n",
              "\n",
              "  // Wait for the user to pick the files.\n",
              "  const files = yield {\n",
              "    promise: Promise.race([pickedPromise, cancelPromise]),\n",
              "    response: {\n",
              "      action: 'starting',\n",
              "    }\n",
              "  };\n",
              "\n",
              "  cancel.remove();\n",
              "\n",
              "  // Disable the input element since further picks are not allowed.\n",
              "  inputElement.disabled = true;\n",
              "\n",
              "  if (!files) {\n",
              "    return {\n",
              "      response: {\n",
              "        action: 'complete',\n",
              "      }\n",
              "    };\n",
              "  }\n",
              "\n",
              "  for (const file of files) {\n",
              "    const li = document.createElement('li');\n",
              "    li.append(span(file.name, {fontWeight: 'bold'}));\n",
              "    li.append(span(\n",
              "        `(${file.type || 'n/a'}) - ${file.size} bytes, ` +\n",
              "        `last modified: ${\n",
              "            file.lastModifiedDate ? file.lastModifiedDate.toLocaleDateString() :\n",
              "                                    'n/a'} - `));\n",
              "    const percent = span('0% done');\n",
              "    li.appendChild(percent);\n",
              "\n",
              "    outputElement.appendChild(li);\n",
              "\n",
              "    const fileDataPromise = new Promise((resolve) => {\n",
              "      const reader = new FileReader();\n",
              "      reader.onload = (e) => {\n",
              "        resolve(e.target.result);\n",
              "      };\n",
              "      reader.readAsArrayBuffer(file);\n",
              "    });\n",
              "    // Wait for the data to be ready.\n",
              "    let fileData = yield {\n",
              "      promise: fileDataPromise,\n",
              "      response: {\n",
              "        action: 'continue',\n",
              "      }\n",
              "    };\n",
              "\n",
              "    // Use a chunked sending to avoid message size limits. See b/62115660.\n",
              "    let position = 0;\n",
              "    do {\n",
              "      const length = Math.min(fileData.byteLength - position, MAX_PAYLOAD_SIZE);\n",
              "      const chunk = new Uint8Array(fileData, position, length);\n",
              "      position += length;\n",
              "\n",
              "      const base64 = btoa(String.fromCharCode.apply(null, chunk));\n",
              "      yield {\n",
              "        response: {\n",
              "          action: 'append',\n",
              "          file: file.name,\n",
              "          data: base64,\n",
              "        },\n",
              "      };\n",
              "\n",
              "      let percentDone = fileData.byteLength === 0 ?\n",
              "          100 :\n",
              "          Math.round((position / fileData.byteLength) * 100);\n",
              "      percent.textContent = `${percentDone}% done`;\n",
              "\n",
              "    } while (position < fileData.byteLength);\n",
              "  }\n",
              "\n",
              "  // All done.\n",
              "  yield {\n",
              "    response: {\n",
              "      action: 'complete',\n",
              "    }\n",
              "  };\n",
              "}\n",
              "\n",
              "scope.google = scope.google || {};\n",
              "scope.google.colab = scope.google.colab || {};\n",
              "scope.google.colab._files = {\n",
              "  _uploadFiles,\n",
              "  _uploadFilesContinue,\n",
              "};\n",
              "})(self);\n",
              "</script> "
            ]
          },
          "metadata": {}
        },
        {
          "output_type": "stream",
          "name": "stdout",
          "text": [
            "Saving kaggle.json to kaggle.json\n"
          ]
        },
        {
          "output_type": "execute_result",
          "data": {
            "text/plain": [
              "{'kaggle.json': b'{\"username\":\"nandydev\",\"key\":\"4adb653edf0e679cd72b784a98422e84\"}'}"
            ]
          },
          "metadata": {},
          "execution_count": 1
        }
      ]
    },
    {
      "cell_type": "markdown",
      "source": [
        "## Setting up directory"
      ],
      "metadata": {
        "id": "rDIijDzwxRxJ"
      }
    },
    {
      "cell_type": "code",
      "source": [
        "!mkdir -p ~/.kaggle\n",
        "!cp kaggle.json ~/.kaggle/\n",
        "!chmod 600 ~/.kaggle/kaggle.json\n"
      ],
      "metadata": {
        "id": "NKeg_gI-mE78"
      },
      "execution_count": 2,
      "outputs": []
    },
    {
      "cell_type": "code",
      "source": [
        "!kaggle datasets download -d msambare/fer2013\n"
      ],
      "metadata": {
        "colab": {
          "base_uri": "https://localhost:8080/"
        },
        "id": "RvfsPxpbmGez",
        "outputId": "ce4c190a-45ef-4d04-d48d-7f08286b6709"
      },
      "execution_count": 3,
      "outputs": [
        {
          "output_type": "stream",
          "name": "stdout",
          "text": [
            "Dataset URL: https://www.kaggle.com/datasets/msambare/fer2013\n",
            "License(s): DbCL-1.0\n"
          ]
        }
      ]
    },
    {
      "cell_type": "code",
      "source": [
        "import zipfile\n",
        "\n",
        "with zipfile.ZipFile(\"fer2013.zip\", \"r\") as zip_ref:\n",
        "    zip_ref.extractall(\"fer2013\")\n"
      ],
      "metadata": {
        "id": "Wmdg7y21mInF"
      },
      "execution_count": 4,
      "outputs": []
    },
    {
      "cell_type": "markdown",
      "source": [
        "## importing necessary libraries"
      ],
      "metadata": {
        "id": "fsF8sN6kxZ8y"
      }
    },
    {
      "cell_type": "code",
      "source": [
        "import torch\n",
        "import torch.nn as nn\n",
        "import torch.nn.functional as F\n",
        "from torch.utils.data import Dataset, DataLoader\n",
        "import torchvision\n",
        "from torchvision import datasets, transforms\n",
        "import torchvision.transforms as transforms"
      ],
      "metadata": {
        "id": "qlbEf0UnlbC4"
      },
      "execution_count": 5,
      "outputs": []
    },
    {
      "cell_type": "markdown",
      "source": [
        "### Setting up hyperparameters and CUDA"
      ],
      "metadata": {
        "id": "qqp15evExeL9"
      }
    },
    {
      "cell_type": "code",
      "source": [
        "device=torch.device('cuda' if torch.cuda.is_available() else 'cpu')\n",
        "\n",
        "#hyperparameters\n",
        "num_epochs=30\n",
        "batch_size=64\n",
        "learning_rate=5e-4"
      ],
      "metadata": {
        "id": "nOaNwRf0laWO"
      },
      "execution_count": 6,
      "outputs": []
    },
    {
      "cell_type": "code",
      "source": [
        "transform = transforms.Compose([\n",
        "    transforms.Grayscale(),\n",
        "    transforms.Resize((48, 48)),\n",
        "    transforms.RandomHorizontalFlip(),\n",
        "    transforms.RandomRotation(10),\n",
        "    transforms.ToTensor(),\n",
        "    transforms.Normalize((0.5,), (0.5,))\n",
        "])"
      ],
      "metadata": {
        "id": "dT0KF3fDnjwm"
      },
      "execution_count": 7,
      "outputs": []
    },
    {
      "cell_type": "code",
      "source": [
        "train_dataset = datasets.ImageFolder(root=\"fer2013/train\", transform=transform)\n",
        "train_loader = DataLoader(train_dataset, batch_size=64, shuffle=True)\n",
        "\n",
        "val_dataset = datasets.ImageFolder(root=\"fer2013/test\", transform=transform)\n",
        "val_loader = DataLoader(val_dataset, batch_size=64, shuffle=False)"
      ],
      "metadata": {
        "id": "jRAMZgmFmnqb"
      },
      "execution_count": 8,
      "outputs": []
    },
    {
      "cell_type": "markdown",
      "source": [
        "## Model"
      ],
      "metadata": {
        "id": "wYj8n6EFomXG"
      }
    },
    {
      "cell_type": "code",
      "source": [
        "import torch\n",
        "import torch.nn as nn\n",
        "import torch.nn.functional as F\n",
        "\n",
        "class CNN(nn.Module):\n",
        "    def __init__(self):\n",
        "        super(CNN, self).__init__()\n",
        "        self.conv1 = nn.Conv2d(1, 64, 5)\n",
        "        self.bn1 = nn.BatchNorm2d(64)\n",
        "\n",
        "        self.pool = nn.MaxPool2d(2, 2)\n",
        "\n",
        "        self.conv2 = nn.Conv2d(64, 128, 5)\n",
        "        self.bn2 = nn.BatchNorm2d(128)\n",
        "\n",
        "        self.conv3 = nn.Conv2d(128, 256, 3, padding=1)\n",
        "        self.bn3_2d = nn.BatchNorm2d(256)\n",
        "\n",
        "        self.conv4 = nn.Conv2d(256, 512, 3, padding=1)\n",
        "        self.bn4_2d = nn.BatchNorm2d(512)\n",
        "\n",
        "        dummy_input = torch.zeros(1, 1, 48, 48)\n",
        "        x = self.pool(F.gelu(self.bn1(self.conv1(dummy_input))))\n",
        "        x = self.pool(F.gelu(self.bn2(self.conv2(x))))\n",
        "        x = self.pool(F.gelu(self.bn3_2d(self.conv3(x))))\n",
        "        x = self.pool(F.gelu(self.bn4_2d(self.conv4(x))))\n",
        "        self.flattened_size = x.view(1, -1).size(1)\n",
        "\n",
        "        self.l1 = nn.Linear(self.flattened_size, 128)\n",
        "        self.bn1d_1 = nn.BatchNorm1d(128)\n",
        "        self.dropout1 = nn.Dropout(p=0.1)\n",
        "\n",
        "        self.l2 = nn.Linear(128, 128)\n",
        "        self.bn1d_2 = nn.BatchNorm1d(128)\n",
        "        self.dropout2 = nn.Dropout(p=0.1)\n",
        "\n",
        "        self.l3 = nn.Linear(128, 7)\n",
        "\n",
        "    def forward(self, x):\n",
        "        x = self.pool(F.gelu(self.bn1(self.conv1(x))))\n",
        "        x = self.pool(F.gelu(self.bn2(self.conv2(x))))\n",
        "        x = self.pool(F.gelu(self.bn3_2d(self.conv3(x))))\n",
        "        x = self.pool(F.gelu(self.bn4_2d(self.conv4(x))))\n",
        "        x = x.view(x.size(0), -1)\n",
        "        x = self.dropout1(F.relu(self.bn1d_1(self.l1(x))))\n",
        "        x = self.dropout2(F.relu(self.bn1d_2(self.l2(x))))\n",
        "        x = self.l3(x)\n",
        "        return x\n"
      ],
      "metadata": {
        "id": "g_LCOVeDomDm"
      },
      "execution_count": 31,
      "outputs": []
    },
    {
      "cell_type": "code",
      "source": [
        "model=CNN().to(device)\n",
        "criterion=nn.CrossEntropyLoss(label_smoothing=0.01)\n",
        "optimizer=torch.optim.AdamW(model.parameters(),lr=learning_rate)\n",
        "scheduler = torch.optim.lr_scheduler.ReduceLROnPlateau(optimizer, mode='min', factor=0.1, patience=3)\n",
        "n_steps=len(train_loader)"
      ],
      "metadata": {
        "id": "uLs_O7atqJgQ"
      },
      "execution_count": 32,
      "outputs": []
    },
    {
      "cell_type": "markdown",
      "source": [
        "## Training loop"
      ],
      "metadata": {
        "id": "WPy86klkqalv"
      }
    },
    {
      "cell_type": "code",
      "source": [
        "loss_tracker = []\n",
        "\n",
        "for i in range(num_epochs):\n",
        "    model.train()\n",
        "    running_loss = 0.0\n",
        "\n",
        "    for j, (image, label) in enumerate(train_loader):\n",
        "        image = image.to(device)\n",
        "        label = label.to(device)\n",
        "\n",
        "        output = model(image)\n",
        "        loss = criterion(output, label)\n",
        "\n",
        "        optimizer.zero_grad()\n",
        "        loss.backward()\n",
        "        optimizer.step()\n",
        "\n",
        "        running_loss += loss.item()\n",
        "\n",
        "        if (j + 1) % 200 == 0:\n",
        "            print(f'Epoch [{i+1}/{num_epochs}], Step [{j+1}/{n_steps}], Loss: {loss.item():.4f}')\n",
        "\n",
        "    avg_loss = running_loss / len(train_loader)\n",
        "    scheduler.step(avg_loss)\n",
        "    loss_tracker.append(avg_loss)"
      ],
      "metadata": {
        "colab": {
          "base_uri": "https://localhost:8080/"
        },
        "id": "hSlf0yX9qeuP",
        "outputId": "9301d523-2a61-42c1-b682-43ceeabd9dc9"
      },
      "execution_count": null,
      "outputs": [
        {
          "output_type": "stream",
          "name": "stdout",
          "text": [
            "Epoch [1/30], Step [200/449], Loss: 1.4206\n",
            "Epoch [1/30], Step [400/449], Loss: 1.3599\n",
            "Epoch [2/30], Step [200/449], Loss: 1.3140\n",
            "Epoch [2/30], Step [400/449], Loss: 1.2152\n",
            "Epoch [3/30], Step [200/449], Loss: 1.0908\n",
            "Epoch [3/30], Step [400/449], Loss: 1.1924\n",
            "Epoch [4/30], Step [200/449], Loss: 1.1881\n",
            "Epoch [4/30], Step [400/449], Loss: 1.1096\n",
            "Epoch [5/30], Step [200/449], Loss: 1.2538\n",
            "Epoch [5/30], Step [400/449], Loss: 1.0393\n",
            "Epoch [6/30], Step [200/449], Loss: 1.1550\n",
            "Epoch [6/30], Step [400/449], Loss: 1.0091\n",
            "Epoch [7/30], Step [200/449], Loss: 1.1291\n",
            "Epoch [7/30], Step [400/449], Loss: 1.0805\n",
            "Epoch [8/30], Step [200/449], Loss: 1.0128\n",
            "Epoch [8/30], Step [400/449], Loss: 0.9115\n",
            "Epoch [9/30], Step [200/449], Loss: 0.8128\n",
            "Epoch [9/30], Step [400/449], Loss: 0.9457\n",
            "Epoch [10/30], Step [200/449], Loss: 0.7762\n",
            "Epoch [10/30], Step [400/449], Loss: 0.8770\n",
            "Epoch [11/30], Step [200/449], Loss: 0.8892\n",
            "Epoch [11/30], Step [400/449], Loss: 0.9226\n"
          ]
        }
      ]
    },
    {
      "cell_type": "markdown",
      "source": [
        "### Graph to visualize the losses"
      ],
      "metadata": {
        "id": "Vhv0qXoQxmXF"
      }
    },
    {
      "cell_type": "code",
      "source": [
        "import matplotlib.pyplot as plt\n",
        "plt.plot(loss_tracker)\n",
        "plt.xlabel('Epoch')\n",
        "plt.ylabel('Loss')\n",
        "plt.title('Loss vs Epoch')\n",
        "plt.show()"
      ],
      "metadata": {
        "colab": {
          "base_uri": "https://localhost:8080/",
          "height": 472
        },
        "id": "VsVqTo70vgB6",
        "outputId": "42829a0b-65b2-46fd-9a54-5c14edff958e"
      },
      "execution_count": 28,
      "outputs": [
        {
          "output_type": "display_data",
          "data": {
            "text/plain": [
              "<Figure size 640x480 with 1 Axes>"
            ],
            "image/png": "[encoded data removed]"
          },
          "metadata": {}
        }
      ]
    },
    {
      "cell_type": "code",
      "source": [
        "model.eval()\n",
        "with torch.no_grad():\n",
        "  n_correct = 0\n",
        "  n_samples = 0\n",
        "  n_class_correct = [0 for _ in range(7)]\n",
        "  n_samples_correct = [0 for _ in range(7)]\n",
        "\n",
        "  for j,(image,label) in enumerate(val_loader):\n",
        "    image=image.to(device)\n",
        "    label=label.to(device)\n",
        "\n",
        "    output=model(image)\n",
        "    prob=F.softmax(output,dim=1)\n",
        "    _,predicted=torch.max(prob,1)\n",
        "\n",
        "    n_samples += label.size(0)\n",
        "    n_correct += (predicted == label).sum().item()\n",
        "\n",
        "    for i in range(len(label)):\n",
        "            true_label = label[i].item()\n",
        "            pred_label = predicted[i].item()\n",
        "\n",
        "            if true_label == pred_label:\n",
        "                n_class_correct[true_label] += 1\n",
        "            n_samples_correct[true_label] += 1\n",
        "\n",
        "  acc = 100.0 * n_correct / n_samples\n",
        "  print(f'Accuracy is {acc}%')"
      ],
      "metadata": {
        "colab": {
          "base_uri": "https://localhost:8080/"
        },
        "id": "1lTPeoOLrC_9",
        "outputId": "022a7af0-bf19-4ca3-8478-a31367070755"
      },
      "execution_count": 29,
      "outputs": [
        {
          "output_type": "stream",
          "name": "stdout",
          "text": [
            "Accuracy is 62.23181944831429%\n"
          ]
        }
      ]
    },
    {
      "cell_type": "code",
      "source": [
        "classes = ['Angry', 'Disgust', 'Fear', 'Happy', 'Sad', 'Surprise', 'Neutral']\n",
        "for i in range(7):\n",
        "    acc = 100.0 * n_class_correct[i] / n_samples_correct[i] if n_samples_correct[i] > 0 else 0\n",
        "    print(f'Accuracy of {classes[i]}: {acc:.2f}%')"
      ],
      "metadata": {
        "colab": {
          "base_uri": "https://localhost:8080/"
        },
        "id": "iG-I_QOQsu8W",
        "outputId": "f466dda8-8587-4b10-bc2b-4579467e92c7"
      },
      "execution_count": 30,
      "outputs": [
        {
          "output_type": "stream",
          "name": "stdout",
          "text": [
            "Accuracy of Angry: 54.91%\n",
            "Accuracy of Disgust: 45.95%\n",
            "Accuracy of Fear: 41.89%\n",
            "Accuracy of Happy: 85.68%\n",
            "Accuracy of Sad: 61.31%\n",
            "Accuracy of Surprise: 44.75%\n",
            "Accuracy of Neutral: 75.45%\n"
          ]
        }
      ]
    }
  ]
}