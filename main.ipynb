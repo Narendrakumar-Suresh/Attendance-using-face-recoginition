{
 "cells": [
  {
   "cell_type": "markdown",
   "metadata": {},
   "source": [
    "All libraries used"
   ]
  },
  {
   "cell_type": "code",
   "execution_count": null,
   "metadata": {},
   "outputs": [],
   "source": [
    "import threading\n",
    "import cv2\n",
    "from deepface import DeepFace\n",
    "import os\n",
    "import matplotlib as plt\n",
    "import csv\n",
    "from datetime import date"
   ]
  },
  {
   "cell_type": "markdown",
   "metadata": {},
   "source": [
    "Screen setup"
   ]
  },
  {
   "cell_type": "code",
   "execution_count": null,
   "metadata": {},
   "outputs": [],
   "source": [
    "cap = cv2.VideoCapture(0, cv2.CAP_DSHOW)\n",
    "cap.set(cv2.CAP_PROP_FRAME_WIDTH, 640)\n",
    "cap.set(cv2.CAP_PROP_FRAME_HEIGHT, 480)\n",
    "\n",
    "path = 'assets'  # Change 'asset' to 'assets' for consistency with your code\n",
    "images = os.listdir(path)\n",
    "ref_img = [cv2.imread(os.path.join(path, i), cv2.IMREAD_COLOR) for i in images]\n",
    "face_match = False\n",
    "image_name = None\n",
    "\n",
    "# Create a CSV file to store attendance\n",
    "csv_filename = f'attendance_{date.today()}.csv'"
   ]
  },
  {
   "cell_type": "markdown",
   "metadata": {},
   "source": [
    "Checks face value"
   ]
  },
  {
   "cell_type": "code",
   "execution_count": null,
   "metadata": {},
   "outputs": [],
   "source": [
    "def check_face(frame):\n",
    "    global face_match, image_name\n",
    "    face_match = False\n",
    "    try:\n",
    "        for ref, image_name in zip(ref_img, images):\n",
    "            result = DeepFace.verify(frame, ref.copy())\n",
    "            if result['verified']:\n",
    "                cv2.putText(frame, 'Success', (20, 450), cv2.FONT_HERSHEY_SIMPLEX, 2, (0, 255, 0), 3)\n",
    "                face_match = True\n",
    "                break\n",
    "            else:\n",
    "                cv2.putText(frame, 'No match!', (20, 450), cv2.FONT_HERSHEY_SIMPLEX, 2, (0, 0, 255), 3)\n",
    "    except ValueError:\n",
    "        pass\n"
   ]
  },
  {
   "cell_type": "markdown",
   "metadata": {},
   "source": [
    "Attendance marking"
   ]
  },
  {
   "cell_type": "code",
   "execution_count": null,
   "metadata": {},
   "outputs": [],
   "source": [
    "def create_attendance_csv():\n",
    "    with open(csv_filename, 'w', newline='') as csvfile:\n",
    "        csv_writer = csv.writer(csvfile)\n",
    "        csv_writer.writerow([\"Name\", \"Date\"])\n",
    "\n",
    "\n",
    "def record_attendance(filename):\n",
    "    # Extract the name from the filename\n",
    "    name = os.path.splitext(filename)[0]\n",
    "\n",
    "    with open(csv_filename, 'a', newline='') as csvfile:\n",
    "        csv_writer = csv.writer(csvfile)\n",
    "        csv_writer.writerow([name, date.today()])\n",
    "\n",
    "\n",
    "# Check if the attendance CSV file exists, if not, create it\n",
    "if not os.path.exists(csv_filename):\n",
    "    create_attendance_csv()"
   ]
  },
  {
   "cell_type": "markdown",
   "metadata": {},
   "source": [
    "FPS and threading"
   ]
  },
  {
   "cell_type": "code",
   "execution_count": null,
   "metadata": {},
   "outputs": [],
   "source": [
    "fps = 0\n",
    "\n",
    "def update_fps():\n",
    "    global fps\n",
    "    while True:\n",
    "        fps = cap.get(cv2.CAP_PROP_FPS)\n",
    "\n",
    "\n",
    "threading.Thread(target=update_fps).start()\n",
    "\n",
    "# Parallelize the face detection and recognition\n",
    "counter = 0"
   ]
  },
  {
   "cell_type": "markdown",
   "metadata": {},
   "source": [
    "End "
   ]
  },
  {
   "cell_type": "code",
   "execution_count": null,
   "metadata": {},
   "outputs": [],
   "source": [
    "while True:\n",
    "    ret, frame = cap.read()\n",
    "    if ret:\n",
    "        if counter % 3 == 0:\n",
    "            threading.Thread(target=check_face, args=(frame.copy(),)).start()\n",
    "\n",
    "        counter += 1\n",
    "\n",
    "        if face_match:\n",
    "            cv2.putText(frame, 'Success', (20, 450), cv2.FONT_HERSHEY_SIMPLEX, 2, (0, 255, 0), 3)\n",
    "            record_attendance(image_name)\n",
    "            face_match = False  # Reset the flag\n",
    "        else:\n",
    "            cv2.putText(frame, 'No match!', (20, 450), cv2.FONT_HERSHEY_SIMPLEX, 2, (0, 0, 255), 3)\n",
    "\n",
    "        cv2.imshow('video', frame)\n",
    "\n",
    "    key = cv2.waitKey(1)\n",
    "    if key == ord('q'):\n",
    "        break\n",
    "\n",
    "cv2.destroyAllWindows()"
   ]
  }
 ],
 "metadata": {
  "language_info": {
   "name": "python"
  }
 },
 "nbformat": 4,
 "nbformat_minor": 2
}
